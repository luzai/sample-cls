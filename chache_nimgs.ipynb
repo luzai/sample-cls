{
 "cells": [
  {
   "cell_type": "code",
   "execution_count": 2,
   "metadata": {},
   "outputs": [
    {
     "name": "stdout",
     "output_type": "stream",
     "text": [
      "The autoreload extension is already loaded. To reload it, use:\n",
      "  %reload_ext autoreload\n"
     ]
    }
   ],
   "source": [
    "from lz import *\n",
    "from metadata import *\n",
    "from gen_imglst import * \n",
    "import lz\n",
    "import tensorflow as tf\n",
    "\n",
    "%load_ext autoreload\n",
    "# %reload_ext autoreload\n",
    "%autoreload 2\n",
    "%matplotlib inline\n",
    "import matplotlib\n",
    "matplotlib.style.use('ggplot')\n",
    "\n",
    "from IPython.core.interactiveshell import InteractiveShell\n",
    "InteractiveShell.ast_node_interactivity = \"all\"\n",
    "import matplotlib"
   ]
  },
  {
   "cell_type": "code",
   "execution_count": 3,
   "metadata": {},
   "outputs": [],
   "source": [
    "# prefix='/mnt/nfs1703/kchen/imagenet-raw'\n",
    "\n",
    "# leaves = {}\n",
    "# for node in os.listdir(prefix):\n",
    "#     if node.startswith('n'):\n",
    "#         leaves[node] = len(os.listdir(prefix + '/' + node))\n",
    "\n",
    "# mypickle(leaves,'nimgs.pkl')"
   ]
  },
  {
   "cell_type": "code",
   "execution_count": 4,
   "metadata": {},
   "outputs": [],
   "source": [
    "# unpickle(leaves,'nimgs.pkl')"
   ]
  },
  {
   "cell_type": "code",
   "execution_count": 14,
   "metadata": {},
   "outputs": [],
   "source": [
    "path='/home/wangxinglu/prj/few-shot/data/imglst/img10k.test.txt'\n",
    "al=np.asarray(read_list(path))\n",
    "fail=np.concatenate(\n",
    "    [np.asarray(read_list('/home/wangxinglu/corrupt.txt')),\n",
    "    np.asarray(read_list('/home/wangxinglu/small.txt'))]\n",
    ")\n",
    "prefix='/home/wangxinglu/prj/few-shot/data/imagenet-raw/'"
   ]
  },
  {
   "cell_type": "code",
   "execution_count": 15,
   "metadata": {},
   "outputs": [],
   "source": [
    "al=pd.DataFrame(data=al[:,1],index=al[:,0])\n",
    "def func(x):\n",
    "    return '/'.join(x.split('/')[-2:])\n",
    "fail=np.asarray(pd.DataFrame(data=fail).applymap(func))[:,0]"
   ]
  },
  {
   "cell_type": "code",
   "execution_count": 16,
   "metadata": {},
   "outputs": [],
   "source": [
    "al=al.drop(fail)"
   ]
  },
  {
   "cell_type": "code",
   "execution_count": 17,
   "metadata": {},
   "outputs": [
    {
     "data": {
      "text/plain": [
       "'n04055447/n04055447_726.JPEG'"
      ]
     },
     "execution_count": 17,
     "metadata": {},
     "output_type": "execute_result"
    }
   ],
   "source": [
    "assert fail[0] not in al.index\n",
    "fail[0]"
   ]
  },
  {
   "cell_type": "code",
   "execution_count": 27,
   "metadata": {},
   "outputs": [],
   "source": [
    "res=np.asarray(al.to_records().tolist())\n",
    "write_list('tmp.txt', res,fmt='%s')"
   ]
  },
  {
   "cell_type": "code",
   "execution_count": null,
   "metadata": {},
   "outputs": [],
   "source": []
  },
  {
   "cell_type": "code",
   "execution_count": null,
   "metadata": {
    "collapsed": true
   },
   "outputs": [],
   "source": []
  }
 ],
 "metadata": {
  "kernelspec": {
   "display_name": "Python 3",
   "language": "python",
   "name": "python3"
  },
  "language_info": {
   "codemirror_mode": {
    "name": "ipython",
    "version": 3
   },
   "file_extension": ".py",
   "mimetype": "text/x-python",
   "name": "python",
   "nbconvert_exporter": "python",
   "pygments_lexer": "ipython3",
   "version": "3.6.2"
  }
 },
 "nbformat": 4,
 "nbformat_minor": 2
}
