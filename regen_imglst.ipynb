{
 "cells": [
  {
   "cell_type": "code",
   "execution_count": 2,
   "metadata": {},
   "outputs": [
    {
     "name": "stdout",
     "output_type": "stream",
     "text": [
      "The autoreload extension is already loaded. To reload it, use:\n",
      "  %reload_ext autoreload\n"
     ]
    }
   ],
   "source": [
    "from lz import *\n",
    "from metadata import *\n",
    "from gen_imglst import * \n",
    "import lz\n",
    "import tensorflow as tf\n",
    "\n",
    "%load_ext autoreload\n",
    "# %reload_ext autoreload\n",
    "%autoreload 2\n",
    "%matplotlib inline\n",
    "import matplotlib\n",
    "matplotlib.style.use('ggplot')\n",
    "\n",
    "from IPython.core.interactiveshell import InteractiveShell\n",
    "InteractiveShell.ast_node_interactivity = \"all\"\n",
    "import matplotlib"
   ]
  },
  {
   "cell_type": "code",
   "execution_count": 34,
   "metadata": {},
   "outputs": [
    {
     "name": "stdout",
     "output_type": "stream",
     "text": [
      "pickle into nimgs.pkl\n"
     ]
    }
   ],
   "source": [
    "prefix='/mnt/nfs1703/kchen/imagenet-raw'\n",
    "leaves = {}\n",
    "for node in os.listdir(prefix):\n",
    "    if node.startswith('n'):\n",
    "        leaves[node] = (os.listdir(prefix + '/' + node))\n",
    "\n",
    "mypickle(leaves,'nimgs.pkl')"
   ]
  },
  {
   "cell_type": "code",
   "execution_count": 38,
   "metadata": {},
   "outputs": [
    {
     "data": {
      "text/plain": [
       "['n00006024',\n",
       " 'n00021265',\n",
       " 'n00120010',\n",
       " 'n00288190',\n",
       " 'n00288384',\n",
       " 'n00324978',\n",
       " 'n00326094',\n",
       " 'n00434075',\n",
       " 'n00440039',\n",
       " 'n00440382']"
      ]
     },
     "execution_count": 38,
     "metadata": {},
     "output_type": "execute_result"
    },
    {
     "data": {
      "text/plain": [
       "[['n00006024_13.JPEG']]"
      ]
     },
     "execution_count": 38,
     "metadata": {},
     "output_type": "execute_result"
    }
   ],
   "source": [
    "leaves=unpickle('nimgs.pkl')\n",
    "list(leaves.keys())[:10]\n",
    "list(leaves.values())[:1]"
   ]
  },
  {
   "cell_type": "code",
   "execution_count": 5,
   "metadata": {},
   "outputs": [
    {
     "data": {
      "text/plain": [
       "array([], dtype=object)"
      ]
     },
     "execution_count": 5,
     "metadata": {},
     "output_type": "execute_result"
    },
    {
     "data": {
      "text/html": [
       "<div>\n",
       "<style>\n",
       "    .dataframe thead tr:only-child th {\n",
       "        text-align: right;\n",
       "    }\n",
       "\n",
       "    .dataframe thead th {\n",
       "        text-align: left;\n",
       "    }\n",
       "\n",
       "    .dataframe tbody tr th {\n",
       "        vertical-align: top;\n",
       "    }\n",
       "</style>\n",
       "<table border=\"1\" class=\"dataframe\">\n",
       "  <thead>\n",
       "    <tr style=\"text-align: right;\">\n",
       "      <th></th>\n",
       "      <th>0</th>\n",
       "    </tr>\n",
       "  </thead>\n",
       "  <tbody>\n",
       "    <tr>\n",
       "      <th>n00015388/n00015388_10181.JPEG</th>\n",
       "      <td>0</td>\n",
       "    </tr>\n",
       "    <tr>\n",
       "      <th>n00015388/n00015388_10238.JPEG</th>\n",
       "      <td>0</td>\n",
       "    </tr>\n",
       "    <tr>\n",
       "      <th>n00015388/n00015388_10397.JPEG</th>\n",
       "      <td>0</td>\n",
       "    </tr>\n",
       "    <tr>\n",
       "      <th>n00015388/n00015388_10779.JPEG</th>\n",
       "      <td>1</td>\n",
       "    </tr>\n",
       "    <tr>\n",
       "      <th>n00015388/n00015388_11286.JPEG</th>\n",
       "      <td>1</td>\n",
       "    </tr>\n",
       "  </tbody>\n",
       "</table>\n",
       "</div>"
      ],
      "text/plain": [
       "                                0\n",
       "n00015388/n00015388_10181.JPEG  0\n",
       "n00015388/n00015388_10238.JPEG  0\n",
       "n00015388/n00015388_10397.JPEG  0\n",
       "n00015388/n00015388_10779.JPEG  1\n",
       "n00015388/n00015388_11286.JPEG  1"
      ]
     },
     "execution_count": 5,
     "metadata": {},
     "output_type": "execute_result"
    },
    {
     "data": {
      "text/html": [
       "<div>\n",
       "<style>\n",
       "    .dataframe thead tr:only-child th {\n",
       "        text-align: right;\n",
       "    }\n",
       "\n",
       "    .dataframe thead th {\n",
       "        text-align: left;\n",
       "    }\n",
       "\n",
       "    .dataframe tbody tr th {\n",
       "        vertical-align: top;\n",
       "    }\n",
       "</style>\n",
       "<table border=\"1\" class=\"dataframe\">\n",
       "  <thead>\n",
       "    <tr style=\"text-align: right;\">\n",
       "      <th></th>\n",
       "      <th>0</th>\n",
       "    </tr>\n",
       "  </thead>\n",
       "  <tbody>\n",
       "    <tr>\n",
       "      <th>n00015388/n00015388_10181.JPEG</th>\n",
       "      <td>0</td>\n",
       "    </tr>\n",
       "    <tr>\n",
       "      <th>n00015388/n00015388_10238.JPEG</th>\n",
       "      <td>0</td>\n",
       "    </tr>\n",
       "    <tr>\n",
       "      <th>n00015388/n00015388_10397.JPEG</th>\n",
       "      <td>0</td>\n",
       "    </tr>\n",
       "    <tr>\n",
       "      <th>n00015388/n00015388_10779.JPEG</th>\n",
       "      <td>1</td>\n",
       "    </tr>\n",
       "    <tr>\n",
       "      <th>n00015388/n00015388_11286.JPEG</th>\n",
       "      <td>1</td>\n",
       "    </tr>\n",
       "  </tbody>\n",
       "</table>\n",
       "</div>"
      ],
      "text/plain": [
       "                                0\n",
       "n00015388/n00015388_10181.JPEG  0\n",
       "n00015388/n00015388_10238.JPEG  0\n",
       "n00015388/n00015388_10397.JPEG  0\n",
       "n00015388/n00015388_10779.JPEG  1\n",
       "n00015388/n00015388_11286.JPEG  1"
      ]
     },
     "execution_count": 5,
     "metadata": {},
     "output_type": "execute_result"
    }
   ],
   "source": [
    "path='/home/wangxinglu/prj/few-shot/data/imglst/img10k.test.txt'\n",
    "al=np.asarray(read_list(path))\n",
    "fail=np.concatenate(\n",
    "    [np.asarray(read_list('/home/wangxinglu/corrupt.txt')),\n",
    "    np.asarray(read_list('/home/wangxinglu/small.txt'))]\n",
    ")\n",
    "prefix='/home/wangxinglu/prj/few-shot/data/imagenet-raw/'\n",
    "\n",
    "al=pd.DataFrame(data=al[:,1],index=al[:,0])\n",
    "def func(x):\n",
    "    return '/'.join(x.split('/')[-2:])\n",
    "fail=np.asarray(pd.DataFrame(data=fail).applymap(func))[:,0]\n",
    "fail=np.intersect1d(np.asarray(al.index),fail)\n",
    "fail\n",
    "\n",
    "al.head()\n",
    "al=al.drop(fail ) \n",
    "al.head() \n",
    "# assert fail[0] not in al.index\n",
    "# fail[0]\n",
    "\n",
    "# res=np.asarray(al.to_records().tolist())\n",
    "# write_list(path, res,fmt='%s')"
   ]
  },
  {
   "cell_type": "code",
   "execution_count": null,
   "metadata": {
    "scrolled": false
   },
   "outputs": [],
   "source": [
    "path='/home/wangxinglu/prj/few-shot/data/imglst/img10k.train.txt'\n",
    "al=np.asarray(read_list(path))\n",
    "fail=np.concatenate(\n",
    "    [np.asarray(read_list('/home/wangxinglu/corrupt.txt')),\n",
    "    np.asarray(read_list('/home/wangxinglu/small.txt'))]\n",
    ")\n",
    "prefix='/home/wangxinglu/prj/few-shot/data/imagenet-raw/'\n",
    "\n",
    "al=pd.DataFrame(data=al[:,1],index=al[:,0])\n",
    "def func(x):\n",
    "    return '/'.join(x.split('/')[-2:])\n",
    "fail=np.asarray(pd.DataFrame(data=fail).applymap(func))[:,0]\n",
    "fail=np.intersect1d(np.asarray(al.index),fail)\n",
    "fail\n",
    "\n",
    "al.head()\n",
    "al=al.drop(fail )\n",
    "al.head()\n",
    "# assert fail[0] not in al.index\n",
    "# fail[0]\n",
    "\n",
    "# res=np.asarray(al.to_records().tolist())\n",
    "# write_list(path, res,fmt='%s')"
   ]
  },
  {
   "cell_type": "code",
   "execution_count": 32,
   "metadata": {},
   "outputs": [],
   "source": [
    "prefix='/home/wangxinglu/prj/few-shot/data/imagenet-raw/'\n",
    "for path in fail:\n",
    "    if osp.exists(prefix+path):\n",
    "        shutil.move(prefix+path,'/home/wangxinglu/corrupt')        "
   ]
  }
 ],
 "metadata": {
  "kernelspec": {
   "display_name": "Python 3",
   "language": "python",
   "name": "python3"
  },
  "language_info": {
   "codemirror_mode": {
    "name": "ipython",
    "version": 3
   },
   "file_extension": ".py",
   "mimetype": "text/x-python",
   "name": "python",
   "nbconvert_exporter": "python",
   "pygments_lexer": "ipython3",
   "version": "3.6.2"
  }
 },
 "nbformat": 4,
 "nbformat_minor": 2
}
