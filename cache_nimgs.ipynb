{
 "cells": [
  {
   "cell_type": "code",
   "execution_count": 28,
   "metadata": {},
   "outputs": [
    {
     "name": "stdout",
     "output_type": "stream",
     "text": [
      "The autoreload extension is already loaded. To reload it, use:\n",
      "  %reload_ext autoreload\n"
     ]
    }
   ],
   "source": [
    "from lz import *\n",
    "from metadata import *\n",
    "from gen_imglst import * \n",
    "import lz\n",
    "import tensorflow as tf\n",
    "\n",
    "%load_ext autoreload\n",
    "# %reload_ext autoreload\n",
    "%autoreload 2\n",
    "%matplotlib inline\n",
    "import matplotlib\n",
    "matplotlib.style.use('ggplot')\n",
    "\n",
    "from IPython.core.interactiveshell import InteractiveShell\n",
    "InteractiveShell.ast_node_interactivity = \"all\"\n",
    "import matplotlib"
   ]
  },
  {
   "cell_type": "code",
   "execution_count": 3,
   "metadata": {},
   "outputs": [],
   "source": [
    "# prefix='/mnt/nfs1703/kchen/imagenet-raw'\n",
    "\n",
    "# leaves = {}\n",
    "# for node in os.listdir(prefix):\n",
    "#     if node.startswith('n'):\n",
    "#         leaves[node] = len(os.listdir(prefix + '/' + node))\n",
    "\n",
    "# mypickle(leaves,'nimgs.pkl')"
   ]
  },
  {
   "cell_type": "code",
   "execution_count": 4,
   "metadata": {},
   "outputs": [],
   "source": [
    "# unpickle(leaves,'nimgs.pkl')"
   ]
  },
  {
   "cell_type": "code",
   "execution_count": 41,
   "metadata": {},
   "outputs": [
    {
     "data": {
      "text/html": [
       "<div>\n",
       "<style>\n",
       "    .dataframe thead tr:only-child th {\n",
       "        text-align: right;\n",
       "    }\n",
       "\n",
       "    .dataframe thead th {\n",
       "        text-align: left;\n",
       "    }\n",
       "\n",
       "    .dataframe tbody tr th {\n",
       "        vertical-align: top;\n",
       "    }\n",
       "</style>\n",
       "<table border=\"1\" class=\"dataframe\">\n",
       "  <thead>\n",
       "    <tr style=\"text-align: right;\">\n",
       "      <th></th>\n",
       "      <th>0</th>\n",
       "    </tr>\n",
       "  </thead>\n",
       "  <tbody>\n",
       "    <tr>\n",
       "      <th>n00015388/n00015388_10181.JPEG</th>\n",
       "      <td>0</td>\n",
       "    </tr>\n",
       "    <tr>\n",
       "      <th>n00015388/n00015388_10238.JPEG</th>\n",
       "      <td>0</td>\n",
       "    </tr>\n",
       "    <tr>\n",
       "      <th>n00015388/n00015388_10397.JPEG</th>\n",
       "      <td>0</td>\n",
       "    </tr>\n",
       "    <tr>\n",
       "      <th>n00015388/n00015388_10779.JPEG</th>\n",
       "      <td>1</td>\n",
       "    </tr>\n",
       "    <tr>\n",
       "      <th>n00015388/n00015388_11286.JPEG</th>\n",
       "      <td>1</td>\n",
       "    </tr>\n",
       "  </tbody>\n",
       "</table>\n",
       "</div>"
      ],
      "text/plain": [
       "                                0\n",
       "n00015388/n00015388_10181.JPEG  0\n",
       "n00015388/n00015388_10238.JPEG  0\n",
       "n00015388/n00015388_10397.JPEG  0\n",
       "n00015388/n00015388_10779.JPEG  1\n",
       "n00015388/n00015388_11286.JPEG  1"
      ]
     },
     "execution_count": 41,
     "metadata": {},
     "output_type": "execute_result"
    },
    {
     "data": {
      "text/plain": [
       "'n04055447/n04055447_726.JPEG'"
      ]
     },
     "execution_count": 41,
     "metadata": {},
     "output_type": "execute_result"
    }
   ],
   "source": [
    "path='/home/wangxinglu/prj/few-shot/data/imglst/img10k.test.txt'\n",
    "al=np.asarray(read_list(path))\n",
    "fail=np.concatenate(\n",
    "    [np.asarray(read_list('/home/wangxinglu/corrupt.txt')),\n",
    "    np.asarray(read_list('/home/wangxinglu/small.txt'))]\n",
    ")\n",
    "prefix='/home/wangxinglu/prj/few-shot/data/imagenet-raw/'\n",
    "\n",
    "al=pd.DataFrame(data=al[:,1],index=al[:,0])\n",
    "def func(x):\n",
    "    return '/'.join(x.split('/')[-2:])\n",
    "fail=np.asarray(pd.DataFrame(data=fail).applymap(func))[:,0]\n",
    "\n",
    "al.head()\n",
    "al=al.drop(fail,errors='ignore')\n",
    "\n",
    "assert fail[0] not in al.index\n",
    "fail[0]\n",
    "\n",
    "res=np.asarray(al.to_records().tolist())\n",
    "write_list(path, res,fmt='%s')"
   ]
  },
  {
   "cell_type": "code",
   "execution_count": 42,
   "metadata": {},
   "outputs": [
    {
     "data": {
      "text/html": [
       "<div>\n",
       "<style>\n",
       "    .dataframe thead tr:only-child th {\n",
       "        text-align: right;\n",
       "    }\n",
       "\n",
       "    .dataframe thead th {\n",
       "        text-align: left;\n",
       "    }\n",
       "\n",
       "    .dataframe tbody tr th {\n",
       "        vertical-align: top;\n",
       "    }\n",
       "</style>\n",
       "<table border=\"1\" class=\"dataframe\">\n",
       "  <thead>\n",
       "    <tr style=\"text-align: right;\">\n",
       "      <th></th>\n",
       "      <th>0</th>\n",
       "    </tr>\n",
       "  </thead>\n",
       "  <tbody>\n",
       "    <tr>\n",
       "      <th>n00015388/n00015388_10082.JPEG</th>\n",
       "      <td>0</td>\n",
       "    </tr>\n",
       "    <tr>\n",
       "      <th>n00015388/n00015388_10113.JPEG</th>\n",
       "      <td>0</td>\n",
       "    </tr>\n",
       "    <tr>\n",
       "      <th>n00015388/n00015388_10201.JPEG</th>\n",
       "      <td>0</td>\n",
       "    </tr>\n",
       "    <tr>\n",
       "      <th>n00015388/n00015388_10257.JPEG</th>\n",
       "      <td>0</td>\n",
       "    </tr>\n",
       "    <tr>\n",
       "      <th>n00015388/n00015388_10315.JPEG</th>\n",
       "      <td>0</td>\n",
       "    </tr>\n",
       "  </tbody>\n",
       "</table>\n",
       "</div>"
      ],
      "text/plain": [
       "                                0\n",
       "n00015388/n00015388_10082.JPEG  0\n",
       "n00015388/n00015388_10113.JPEG  0\n",
       "n00015388/n00015388_10201.JPEG  0\n",
       "n00015388/n00015388_10257.JPEG  0\n",
       "n00015388/n00015388_10315.JPEG  0"
      ]
     },
     "execution_count": 42,
     "metadata": {},
     "output_type": "execute_result"
    },
    {
     "data": {
      "text/plain": [
       "'n04055447/n04055447_726.JPEG'"
      ]
     },
     "execution_count": 42,
     "metadata": {},
     "output_type": "execute_result"
    }
   ],
   "source": [
    "path='/home/wangxinglu/prj/few-shot/data/imglst/img10k.train.txt'\n",
    "al=np.asarray(read_list(path))\n",
    "fail=np.concatenate(\n",
    "    [np.asarray(read_list('/home/wangxinglu/corrupt.txt')),\n",
    "    np.asarray(read_list('/home/wangxinglu/small.txt'))]\n",
    ")\n",
    "prefix='/home/wangxinglu/prj/few-shot/data/imagenet-raw/'\n",
    "\n",
    "al=pd.DataFrame(data=al[:,1],index=al[:,0])\n",
    "def func(x):\n",
    "    return '/'.join(x.split('/')[-2:])\n",
    "fail=np.asarray(pd.DataFrame(data=fail).applymap(func))[:,0]\n",
    "\n",
    "al.head()\n",
    "al=al.drop(fail,errors='ignore')\n",
    "\n",
    "assert fail[0] not in al.index\n",
    "fail[0]\n",
    "\n",
    "res=np.asarray(al.to_records().tolist())\n",
    "write_list(path, res,fmt='%s')"
   ]
  },
  {
   "cell_type": "code",
   "execution_count": null,
   "metadata": {
    "collapsed": true
   },
   "outputs": [],
   "source": []
  }
 ],
 "metadata": {
  "kernelspec": {
   "display_name": "Python 3",
   "language": "python",
   "name": "python3"
  },
  "language_info": {
   "codemirror_mode": {
    "name": "ipython",
    "version": 3
   },
   "file_extension": ".py",
   "mimetype": "text/x-python",
   "name": "python",
   "nbconvert_exporter": "python",
   "pygments_lexer": "ipython3",
   "version": "3.6.2"
  }
 },
 "nbformat": 4,
 "nbformat_minor": 2
}
